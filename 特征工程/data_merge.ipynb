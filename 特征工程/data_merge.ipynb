{
 "cells": [
  {
   "cell_type": "code",
   "execution_count": 1,
   "metadata": {},
   "outputs": [],
   "source": [
    "train1 <- read.table(\"../data/raw/train_wfb.csv\", header=TRUE)\n",
    "test1 <- read.table(\"../data/raw/test_wfb.csv\", header=TRUE)"
   ]
  },
  {
   "cell_type": "code",
   "execution_count": 2,
   "metadata": {
    "scrolled": true
   },
   "outputs": [],
   "source": [
    "train2 <- read.csv(\"../data/raw/trainset1221.csv\")\n",
    "test2 <- read.csv(\"../data/raw/testset1221.csv\")"
   ]
  },
  {
   "cell_type": "code",
   "execution_count": 3,
   "metadata": {},
   "outputs": [
    {
     "name": "stderr",
     "output_type": "stream",
     "text": [
      "Warning message:\n",
      "\"package 'data.table' was built under R version 3.5.1\""
     ]
    }
   ],
   "source": [
    "library(data.table)\n",
    "train2= data.table(train2)"
   ]
  },
  {
   "cell_type": "code",
   "execution_count": 14,
   "metadata": {},
   "outputs": [
    {
     "data": {
      "text/html": [
       "<ol class=list-inline>\n",
       "\t<li>'lineID'</li>\n",
       "\t<li>'total_units'</li>\n",
       "\t<li>'competitorPrice_imputed'</li>\n",
       "\t<li>'rrp_per_unit'</li>\n",
       "\t<li>'price_per_unit'</li>\n",
       "\t<li>'competitorPrice_per_unit'</li>\n",
       "\t<li>'price_diff'</li>\n",
       "\t<li>'price_discount'</li>\n",
       "\t<li>'competitorPrice_discount'</li>\n",
       "\t<li>'price_discount_diff'</li>\n",
       "\t<li>'is_lower_price'</li>\n",
       "\t<li>'is_discount'</li>\n",
       "\t<li>'isgreater_discount'</li>\n",
       "\t<li>'price_discount_min'</li>\n",
       "\t<li>'price_discount_p25'</li>\n",
       "\t<li>'price_discount_med'</li>\n",
       "\t<li>'price_discount_p75'</li>\n",
       "\t<li>'price_discount_max'</li>\n",
       "\t<li>'X'</li>\n",
       "\t<li>'day_7'</li>\n",
       "\t<li>'group_34'</li>\n",
       "\t<li>'group_12'</li>\n",
       "\t<li>'pid'</li>\n",
       "\t<li>'day'</li>\n",
       "\t<li>'adFlag'</li>\n",
       "\t<li>'availability'</li>\n",
       "\t<li>'competitorPrice'</li>\n",
       "\t<li>'price'</li>\n",
       "\t<li>'manufacturer'</li>\n",
       "\t<li>'group'</li>\n",
       "\t<li>'content'</li>\n",
       "\t<li>'unit'</li>\n",
       "\t<li>'pharmForm'</li>\n",
       "\t<li>'genericProduct'</li>\n",
       "\t<li>'salesIndex'</li>\n",
       "\t<li>'category'</li>\n",
       "\t<li>'campaignIndex'</li>\n",
       "\t<li>'rrp'</li>\n",
       "\t<li>'unified_ML'</li>\n",
       "\t<li>'unified_G'</li>\n",
       "\t<li>'unified_CM'</li>\n",
       "\t<li>'unified_ST'</li>\n",
       "\t<li>'unified_P'</li>\n",
       "\t<li>'click_time'</li>\n",
       "\t<li>'basket_time'</li>\n",
       "\t<li>'order_time'</li>\n",
       "\t<li>'num_pid_click'</li>\n",
       "\t<li>'num_pid_basket'</li>\n",
       "\t<li>'num_pid_order'</li>\n",
       "\t<li>'group12_order'</li>\n",
       "\t<li>'group34_order'</li>\n",
       "\t<li>'day_14'</li>\n",
       "\t<li>'day_30'</li>\n",
       "\t<li>'week_order'</li>\n",
       "</ol>\n"
      ],
      "text/latex": [
       "\\begin{enumerate*}\n",
       "\\item 'lineID'\n",
       "\\item 'total\\_units'\n",
       "\\item 'competitorPrice\\_imputed'\n",
       "\\item 'rrp\\_per\\_unit'\n",
       "\\item 'price\\_per\\_unit'\n",
       "\\item 'competitorPrice\\_per\\_unit'\n",
       "\\item 'price\\_diff'\n",
       "\\item 'price\\_discount'\n",
       "\\item 'competitorPrice\\_discount'\n",
       "\\item 'price\\_discount\\_diff'\n",
       "\\item 'is\\_lower\\_price'\n",
       "\\item 'is\\_discount'\n",
       "\\item 'isgreater\\_discount'\n",
       "\\item 'price\\_discount\\_min'\n",
       "\\item 'price\\_discount\\_p25'\n",
       "\\item 'price\\_discount\\_med'\n",
       "\\item 'price\\_discount\\_p75'\n",
       "\\item 'price\\_discount\\_max'\n",
       "\\item 'X'\n",
       "\\item 'day\\_7'\n",
       "\\item 'group\\_34'\n",
       "\\item 'group\\_12'\n",
       "\\item 'pid'\n",
       "\\item 'day'\n",
       "\\item 'adFlag'\n",
       "\\item 'availability'\n",
       "\\item 'competitorPrice'\n",
       "\\item 'price'\n",
       "\\item 'manufacturer'\n",
       "\\item 'group'\n",
       "\\item 'content'\n",
       "\\item 'unit'\n",
       "\\item 'pharmForm'\n",
       "\\item 'genericProduct'\n",
       "\\item 'salesIndex'\n",
       "\\item 'category'\n",
       "\\item 'campaignIndex'\n",
       "\\item 'rrp'\n",
       "\\item 'unified\\_ML'\n",
       "\\item 'unified\\_G'\n",
       "\\item 'unified\\_CM'\n",
       "\\item 'unified\\_ST'\n",
       "\\item 'unified\\_P'\n",
       "\\item 'click\\_time'\n",
       "\\item 'basket\\_time'\n",
       "\\item 'order\\_time'\n",
       "\\item 'num\\_pid\\_click'\n",
       "\\item 'num\\_pid\\_basket'\n",
       "\\item 'num\\_pid\\_order'\n",
       "\\item 'group12\\_order'\n",
       "\\item 'group34\\_order'\n",
       "\\item 'day\\_14'\n",
       "\\item 'day\\_30'\n",
       "\\item 'week\\_order'\n",
       "\\end{enumerate*}\n"
      ],
      "text/markdown": [
       "1. 'lineID'\n",
       "2. 'total_units'\n",
       "3. 'competitorPrice_imputed'\n",
       "4. 'rrp_per_unit'\n",
       "5. 'price_per_unit'\n",
       "6. 'competitorPrice_per_unit'\n",
       "7. 'price_diff'\n",
       "8. 'price_discount'\n",
       "9. 'competitorPrice_discount'\n",
       "10. 'price_discount_diff'\n",
       "11. 'is_lower_price'\n",
       "12. 'is_discount'\n",
       "13. 'isgreater_discount'\n",
       "14. 'price_discount_min'\n",
       "15. 'price_discount_p25'\n",
       "16. 'price_discount_med'\n",
       "17. 'price_discount_p75'\n",
       "18. 'price_discount_max'\n",
       "19. 'X'\n",
       "20. 'day_7'\n",
       "21. 'group_34'\n",
       "22. 'group_12'\n",
       "23. 'pid'\n",
       "24. 'day'\n",
       "25. 'adFlag'\n",
       "26. 'availability'\n",
       "27. 'competitorPrice'\n",
       "28. 'price'\n",
       "29. 'manufacturer'\n",
       "30. 'group'\n",
       "31. 'content'\n",
       "32. 'unit'\n",
       "33. 'pharmForm'\n",
       "34. 'genericProduct'\n",
       "35. 'salesIndex'\n",
       "36. 'category'\n",
       "37. 'campaignIndex'\n",
       "38. 'rrp'\n",
       "39. 'unified_ML'\n",
       "40. 'unified_G'\n",
       "41. 'unified_CM'\n",
       "42. 'unified_ST'\n",
       "43. 'unified_P'\n",
       "44. 'click_time'\n",
       "45. 'basket_time'\n",
       "46. 'order_time'\n",
       "47. 'num_pid_click'\n",
       "48. 'num_pid_basket'\n",
       "49. 'num_pid_order'\n",
       "50. 'group12_order'\n",
       "51. 'group34_order'\n",
       "52. 'day_14'\n",
       "53. 'day_30'\n",
       "54. 'week_order'\n",
       "\n",
       "\n"
      ],
      "text/plain": [
       " [1] \"lineID\"                   \"total_units\"             \n",
       " [3] \"competitorPrice_imputed\"  \"rrp_per_unit\"            \n",
       " [5] \"price_per_unit\"           \"competitorPrice_per_unit\"\n",
       " [7] \"price_diff\"               \"price_discount\"          \n",
       " [9] \"competitorPrice_discount\" \"price_discount_diff\"     \n",
       "[11] \"is_lower_price\"           \"is_discount\"             \n",
       "[13] \"isgreater_discount\"       \"price_discount_min\"      \n",
       "[15] \"price_discount_p25\"       \"price_discount_med\"      \n",
       "[17] \"price_discount_p75\"       \"price_discount_max\"      \n",
       "[19] \"X\"                        \"day_7\"                   \n",
       "[21] \"group_34\"                 \"group_12\"                \n",
       "[23] \"pid\"                      \"day\"                     \n",
       "[25] \"adFlag\"                   \"availability\"            \n",
       "[27] \"competitorPrice\"          \"price\"                   \n",
       "[29] \"manufacturer\"             \"group\"                   \n",
       "[31] \"content\"                  \"unit\"                    \n",
       "[33] \"pharmForm\"                \"genericProduct\"          \n",
       "[35] \"salesIndex\"               \"category\"                \n",
       "[37] \"campaignIndex\"            \"rrp\"                     \n",
       "[39] \"unified_ML\"               \"unified_G\"               \n",
       "[41] \"unified_CM\"               \"unified_ST\"              \n",
       "[43] \"unified_P\"                \"click_time\"              \n",
       "[45] \"basket_time\"              \"order_time\"              \n",
       "[47] \"num_pid_click\"            \"num_pid_basket\"          \n",
       "[49] \"num_pid_order\"            \"group12_order\"           \n",
       "[51] \"group34_order\"            \"day_14\"                  \n",
       "[53] \"day_30\"                   \"week_order\"              "
      ]
     },
     "metadata": {},
     "output_type": "display_data"
    }
   ],
   "source": [
    "names(test)"
   ]
  },
  {
   "cell_type": "code",
   "execution_count": 12,
   "metadata": {},
   "outputs": [
    {
     "ename": "ERROR",
     "evalue": "Error in eval(substitute(select), nl, parent.frame()): 找不到对象'day'\n",
     "output_type": "error",
     "traceback": [
      "Error in eval(substitute(select), nl, parent.frame()): 找不到对象'day'\nTraceback:\n",
      "1. subset(train1, select = -c(day, adFlag, availability, price, \n .     manufacturer, group, content, unit, pharmForm, genericProduct, \n .     salesIndex, category, campaignIndex, rrp, unified_ML, unified_G, \n .     unified_CM, unified_ST, unified_P, basket, click, order, \n .     revenue))",
      "2. subset.data.frame(train1, select = -c(day, adFlag, availability, \n .     price, manufacturer, group, content, unit, pharmForm, genericProduct, \n .     salesIndex, category, campaignIndex, rrp, unified_ML, unified_G, \n .     unified_CM, unified_ST, unified_P, basket, click, order, \n .     revenue))",
      "3. eval(substitute(select), nl, parent.frame())",
      "4. eval(substitute(select), nl, parent.frame())"
     ]
    }
   ],
   "source": [
    "train1 <- subset(train1, select = -c(day,adFlag,availability,price,manufacturer,group,content,unit,pharmForm,genericProduct,salesIndex,category,campaignIndex,rrp,unified_ML,unified_G,unified_CM,unified_ST,unified_P,basket,click,order,revenue))"
   ]
  },
  {
   "cell_type": "code",
   "execution_count": 6,
   "metadata": {},
   "outputs": [],
   "source": [
    "test1 <- subset(test1, select = -c(pid,day,adFlag,availability,price,manufacturer,group,content,unit,pharmForm,genericProduct,salesIndex,category,campaignIndex,rrp,unified_ML,unified_G,unified_CM,unified_ST,unified_P))"
   ]
  },
  {
   "cell_type": "code",
   "execution_count": 9,
   "metadata": {},
   "outputs": [],
   "source": [
    "train1 <- subset(train1, select = -pid)"
   ]
  },
  {
   "cell_type": "code",
   "execution_count": 10,
   "metadata": {},
   "outputs": [],
   "source": [
    "train <- merge(train1, train2, by = \"lineID\")"
   ]
  },
  {
   "cell_type": "code",
   "execution_count": 13,
   "metadata": {},
   "outputs": [],
   "source": [
    "test <- merge(test1, test2, by = \"lineID\")"
   ]
  },
  {
   "cell_type": "code",
   "execution_count": 16,
   "metadata": {},
   "outputs": [
    {
     "data": {
      "text/html": [
       "2756003"
      ],
      "text/latex": [
       "2756003"
      ],
      "text/markdown": [
       "2756003"
      ],
      "text/plain": [
       "[1] 2756003"
      ]
     },
     "metadata": {},
     "output_type": "display_data"
    }
   ],
   "source": [
    "nrow(train)"
   ]
  },
  {
   "cell_type": "code",
   "execution_count": 17,
   "metadata": {},
   "outputs": [],
   "source": [
    "write.table(train, \"../data/raw/train_merge.csv\")\n",
    "write.table(test, \"../data/raw/test_merge.csv\")"
   ]
  },
  {
   "cell_type": "code",
   "execution_count": null,
   "metadata": {},
   "outputs": [],
   "source": []
  }
 ],
 "metadata": {
  "kernelspec": {
   "display_name": "R",
   "language": "R",
   "name": "ir"
  },
  "language_info": {
   "codemirror_mode": "r",
   "file_extension": ".r",
   "mimetype": "text/x-r-source",
   "name": "R",
   "pygments_lexer": "r",
   "version": "3.5.0"
  }
 },
 "nbformat": 4,
 "nbformat_minor": 2
}
