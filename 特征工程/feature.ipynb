{
 "cells": [
  {
   "cell_type": "code",
   "execution_count": 1,
   "metadata": {},
   "outputs": [
    {
     "name": "stderr",
     "output_type": "stream",
     "text": [
      "Warning message:\n",
      "\"package 'data.table' was built under R version 3.5.1\"Warning message:\n",
      "\"package 'stringr' was built under R version 3.5.1\""
     ]
    }
   ],
   "source": [
    "#!/usr/bin/env Rscript\n",
    "\n",
    "LABEL_COLS <- c(\"click\", \"basket\", \"order\", \"revenue\")\n",
    "\n",
    "library(data.table)\n",
    "library(stringr)\n",
    "\n",
    "IN <- list(\n",
    "  items = \"../data/raw/final_unif.csv\",\n",
    "  train = \"../data/raw/train.csv\",\n",
    "  test  = \"../data/raw/class.csv\")\n",
    "\n",
    "OUT <- list(\n",
    "  train = \"../data/raw/nolabel_feat_train.csv\",\n",
    "  test  = \"../data/raw/nolabel_feat_test.csv\")\n",
    "\n",
    "BREAKS <- c(21, 14, 14, 14, 14, 15)\n",
    "\n",
    "#读取数据\n",
    "items <- read.table(IN$items, sep = \",\", header=TRUE)\n",
    "train <- read.table(IN$train, sep = \"|\", header=TRUE)\n",
    "test <- read.table(IN$test, sep = \"|\", header=TRUE)"
   ]
  },
  {
   "cell_type": "code",
   "execution_count": 2,
   "metadata": {},
   "outputs": [
    {
     "ename": "ERROR",
     "evalue": "Error in eval(substitute(select), nl, parent.frame()): 找不到对象'content_part4'\n",
     "output_type": "error",
     "traceback": [
      "Error in eval(substitute(select), nl, parent.frame()): 找不到对象'content_part4'\nTraceback:\n",
      "1. subset(items, select = -content_part4)",
      "2. subset.data.frame(items, select = -content_part4)",
      "3. eval(substitute(select), nl, parent.frame())",
      "4. eval(substitute(select), nl, parent.frame())"
     ]
    }
   ],
   "source": [
    "#------------------------2. content特征-----------------------------\n",
    "#处理item content的内容，把里面的a x b x c 中用“x”连接的部分分开，变成数字。\n",
    "split_units = str_split_fixed(items$content, \"x\", 3)\n",
    "dims = dim(split_units)\n",
    "split_units = str_replace_all(split_units, \"[[:space:][:alpha:]]\", \"\")\n",
    "split_units[split_units == \"\"] = \"1\"\n",
    "split_units = as.numeric(split_units)\n",
    "dim(split_units) = dims\n",
    "\n",
    "#特征2.1\n",
    "items$content_part1 = split_units[, 1]\n",
    "#特征2.2\n",
    "items$content_part2 = split_units[, 2]\n",
    "#特征2.3\n",
    "items$content_part3 = split_units[, 3]\n",
    "#特征2.4\n",
    "items$total_units = items$content_part1 * items$content_part2 * items$content_part3\n",
    "\n",
    "items <- subset(items, select = -content_part1 )\n",
    "items <- subset(items, select = -content_part2 )\n",
    "items <- subset(items, select = -content_part3 )\n",
    "items <- subset(items, select = -content_part4 )"
   ]
  },
  {
   "cell_type": "code",
   "execution_count": 4,
   "metadata": {},
   "outputs": [],
   "source": [
    "items <- subset(items, select = -pid1 )"
   ]
  },
  {
   "cell_type": "code",
   "execution_count": null,
   "metadata": {},
   "outputs": [],
   "source": []
  },
  {
   "cell_type": "code",
   "execution_count": 7,
   "metadata": {},
   "outputs": [],
   "source": [
    "# ==================== ASSEMBLE LINES ====================\n",
    "# 对train进行处理\n",
    "labels <- train[, c(\"lineID\", LABEL_COLS)]\n",
    "train <- train[c(1,2,3,4,5,6,10)]\n",
    "final_train_day <- max(train$day)\n",
    "\n",
    "#把train 和 test 结合起来\n",
    "df <- rbind(train, test)\n",
    "\n",
    "#把items和df文件结合起来\n",
    "df <- merge(df, items, by = \"pid\")\n",
    "df = df[order(df$lineID), ]\n",
    "rm(train, test, items)\n",
    "df = data.table(df)\n",
    "setkey(df, lineID)"
   ]
  },
  {
   "cell_type": "code",
   "execution_count": 8,
   "metadata": {},
   "outputs": [
    {
     "data": {},
     "metadata": {},
     "output_type": "display_data"
    },
    {
     "data": {},
     "metadata": {},
     "output_type": "display_data"
    },
    {
     "data": {},
     "metadata": {},
     "output_type": "display_data"
    },
    {
     "data": {},
     "metadata": {},
     "output_type": "display_data"
    },
    {
     "data": {},
     "metadata": {},
     "output_type": "display_data"
    }
   ],
   "source": [
    "#------------------------5. 填补竞争者价格---------------------------------\n",
    "df$day_mod_7 = df$day %% 7\n",
    "\n",
    "df$competitorPrice_imputed = df$competitorPrice\n",
    "\n",
    "#特征5.2：items 中重复的pid\n",
    "df$deduplicated_pid = duplicated(df$pid)\n",
    "\n",
    "#用相同产品的平均值来填补缺失价格，以及其他类似的价格来填补，上述不能填补的用价格来填补\n",
    "#特征5.3:填补后竞争者价格\n",
    "df[, competitorPrice_imputed :=\n",
    "  ifelse(is.na(competitorPrice_imputed)\n",
    "    , mean(competitorPrice, na.rm = TRUE)\n",
    "    , competitorPrice_imputed)\n",
    "  , by = pid]\n",
    "df[, competitorPrice_imputed :=\n",
    "  ifelse(is.na(competitorPrice_imputed)\n",
    "    , mean(competitorPrice, na.rm = TRUE)\n",
    "    , competitorPrice_imputed)\n",
    "  , by = deduplicated_pid]\n",
    "df[, competitorPrice_imputed :=\n",
    "  ifelse(is.na(competitorPrice_imputed)\n",
    "    , mean(competitorPrice, na.rm = TRUE)\n",
    "    , competitorPrice_imputed)\n",
    "  , by = .(group, content, unit, day_mod_7, salesIndex, adFlag)]\n",
    "df[, competitorPrice_imputed :=\n",
    "  ifelse(is.na(competitorPrice_imputed)\n",
    "    , mean(competitorPrice, na.rm = TRUE)\n",
    "    , competitorPrice_imputed)\n",
    "  , by = .(group, content, unit)]\n",
    "df[is.na(competitorPrice_imputed), competitorPrice_imputed := price]\n",
    "\n",
    "#删除了原本的竞争者价格，变成了经过填补之后的竞争者价格\n",
    "df <- subset(df, select = -competitorPrice )\n",
    "df <- subset(df, select = -day_mod_7 )"
   ]
  },
  {
   "cell_type": "code",
   "execution_count": 9,
   "metadata": {},
   "outputs": [
    {
     "data": {},
     "metadata": {},
     "output_type": "display_data"
    }
   ],
   "source": [
    "#------------------------6. 价格特征---------------------------------\n",
    "#平均每单位商品的价格\n",
    "#特征6.1：平均每个单位商品的参考价格\n",
    "#特征6.2：平均每个单位商品的实际销售价格\n",
    "#特征6.3：平均每个单位商品的竞争者价格\n",
    "df$rrp_per_unit = df$rrp /df$total_units\n",
    "df$price_per_unit = df$price / df$total_units\n",
    "df$competitorPrice_per_unit = df$competitorPrice_imputed / df$total_units\n",
    "\n",
    "#商品的价格差和折扣差\n",
    "#特征6.4：实际销售价格和竞争者价格的差价\n",
    "#特征6.5：自身折扣\n",
    "#特征6.6：竞争者的折扣\n",
    "#特征6.6：自身和竞争者的折扣差\n",
    "df$price_diff = df$price - df$competitorPrice_imputed\n",
    "df$price_discount = (df$price - df$rrp) / df$rrp\n",
    "df$competitorPrice_discount = (df$competitorPrice_imputed - df$rrp) / df$rrp\n",
    "df$price_discount_diff = df$price_discount - df$competitorPrice_discount\n",
    "\n",
    "#是否处于优势地位？\n",
    "#特征6.8：是否比竞争者更低价\n",
    "#特征6.9：是否比竞争者更低折扣\n",
    "#特征6.10：是否比竞争者更低折扣\n",
    "df$is_lower_price = as.integer(df$price_diff < 0)\n",
    "df$is_discount = as.integer(df$price_discount < 0)\n",
    "df$isgreater_discount = as.integer(df$price_discount_diff < 0)\n",
    "\n",
    "#特征6.11、12、13、14、15、16，本商品折扣在所有同类商品中折扣的多少\n",
    "df[, `:=`(\n",
    "    price_discount_min = min(price_discount)\n",
    "    , price_discount_p25 = quantile(price_discount, probs = 0.25)\n",
    "    , price_discount_med = median(price_discount)\n",
    "    , price_discount_p75 = quantile(price_discount, probs = 0.75)\n",
    "    , price_discount_max = max(price_discount) \n",
    "  ), by = \"deduplicated_pid\"]\n",
    "\n",
    "df <- subset(df, select = -deduplicated_pid )"
   ]
  },
  {
   "cell_type": "code",
   "execution_count": 67,
   "metadata": {},
   "outputs": [
    {
     "data": {},
     "metadata": {},
     "output_type": "display_data"
    },
    {
     "data": {},
     "metadata": {},
     "output_type": "display_data"
    },
    {
     "data": {},
     "metadata": {},
     "output_type": "display_data"
    },
    {
     "data": {},
     "metadata": {},
     "output_type": "display_data"
    },
    {
     "data": {},
     "metadata": {},
     "output_type": "display_data"
    },
    {
     "data": {},
     "metadata": {},
     "output_type": "display_data"
    },
    {
     "data": {},
     "metadata": {},
     "output_type": "display_data"
    },
    {
     "data": {},
     "metadata": {},
     "output_type": "display_data"
    },
    {
     "data": {},
     "metadata": {},
     "output_type": "display_data"
    },
    {
     "data": {},
     "metadata": {},
     "output_type": "display_data"
    },
    {
     "data": {},
     "metadata": {},
     "output_type": "display_data"
    },
    {
     "data": {},
     "metadata": {},
     "output_type": "display_data"
    }
   ],
   "source": [
    "# #------------------------7. 计数特征---------------------------------\n",
    "# #按照时间周期和不同变量进行分类后统计商品数量\n",
    "# #特征7.1、2、3、4、5、6、7、8\n",
    "# df[, content_d7cnt := log(.N), by = .(content, day_mod_7)]\n",
    "# df[, group_d7cnt := log(.N), by = .(group, day_mod_7)]\n",
    "# df[, manufacturer_d7cnt := log(.N), by =.(manufacturer, day_mod_7)]\n",
    "# df[, unit_d7cnt := log(.N), by = .(unit, day_mod_7)]\n",
    "# df[, pharmForm_d7cnt := log(.N), by = .(pharmForm, day_mod_7)]\n",
    "# df[, category_d7cnt := log(.N), by = .(category, day_mod_7)]\n",
    "# df[, campaignIndex_d7cnt := log(.N), by = .(campaignIndex, day_mod_7)]\n",
    "# df[, salesIndex_d7cnt := log(.N), by = .(salesIndex, day_mod_7)]\n",
    "\n",
    "# #按照更加复杂的方式进行统计的变量\n",
    "# #特征7.9、10、11、12\n",
    "# df[, inter_gcucd7_cnt := log(.N),\n",
    "#   by = .(group, content, unit, campaignIndex, day_mod_7)]\n",
    "# df[, inter_gcucd10_cnt := log(.N),\n",
    "#   by = .(group, content, unit, adFlag, day_mod_10)]\n",
    "# df[, inter_gcucd30_cnt := log(.N),\n",
    "#   by = .(group, content, unit, availability, day_mod_30)]\n",
    "# df[, inter_gcuca_cnt := log(.N),\n",
    "#   by = .(group, content, unit, campaignIndex, availability, adFlag)]"
   ]
  },
  {
   "cell_type": "code",
   "execution_count": 68,
   "metadata": {},
   "outputs": [
    {
     "data": {},
     "metadata": {},
     "output_type": "display_data"
    },
    {
     "data": {},
     "metadata": {},
     "output_type": "display_data"
    }
   ],
   "source": [
    "#------------------------8. 价格趋势特征---------------------------------\n",
    "# shift_mean = function(x, n, ...) Reduce(\"+\", shift(x, 1:n, ...)) / n\n",
    "\n",
    "# setkey(df, lineID, pid)\n",
    "\n",
    "# #特征8.1：前一天价格\n",
    "# #特征8.2：前五天价格均值\n",
    "# #特征8.3：前五天价格均值最小值\n",
    "# #特征8.4：前五天价格均值最大值\n",
    "# #特征8.5：未来一天价格\n",
    "# #特征8.6：未来五天价格均值\n",
    "# #特征8.7：未来五天价格均值最小值\n",
    "# #特征8.8：未来五天价格均值最大值\n",
    "# df[, `:=`(\n",
    "#     prev_price = shift(price, 1, median(price))\n",
    "#     , prev5_price_avg = shift_mean(price, 5, price[[1]])\n",
    "#     , prev5_price_min = do.call(pmin, shift(price, 1:5, price[[1]]))\n",
    "#     , prev5_price_max = do.call(pmax, shift(price, 1:5, price[[1]]))\n",
    "\n",
    "#     , next_price = shift(price, 1, median(price), type = \"lead\")\n",
    "#     , next5_price_avg = shift_mean(price, 5, median(price), type = \"lead\")\n",
    "#     , next5_price_min = do.call(pmin, shift(price, 1:5, price[[1]]))\n",
    "#     , next5_price_max = do.call(pmax, shift(price, 1:5, price[[1]]))\n",
    "#   ), by = pid]\n",
    "# #特征8.9：当前降价比例\n",
    "# #特征8.10：过去五天价格差\n",
    "# #特征8.11：当前价格是否高于过去五天价格\n",
    "# #特征8.12：未来可能的降价比例\n",
    "# #特征8.13：未来五天价格差\n",
    "# #特征8.14：当前价格是否可能高于未来五天价格\n",
    "# df[, `:=`(\n",
    "#     prev_price_pct_chg = (price - prev_price) / prev_price\n",
    "#     , prev5_price_diff = prev5_price_max - prev5_price_min\n",
    "#     , price_gt_prev5 = as.integer(price > prev5_price_avg)\n",
    "\n",
    "#     , next_price_pct_chg = (next_price - price) / price\n",
    "#     , next5_price_diff = next5_price_max - next5_price_min\n",
    "#     , price_lt_next5 = as.integer(price < next5_price_avg)\n",
    "#   )]"
   ]
  },
  {
   "cell_type": "code",
   "execution_count": 22,
   "metadata": {},
   "outputs": [
    {
     "data": {
      "text/plain": [
       "      pid            lineID             day             adFlag      \n",
       " Min.   :    1   Min.   :      1   Min.   :  1.00   Min.   :0.0000  \n",
       " 1st Qu.: 4236   1st Qu.: 495847   1st Qu.: 39.00   1st Qu.:0.0000  \n",
       " Median :10005   Median : 991693   Median : 69.00   Median :0.0000  \n",
       " Mean   :10392   Mean   :1142178   Mean   : 67.67   Mean   :0.3227  \n",
       " 3rd Qu.:16091   3rd Qu.:1764311   3rd Qu.: 98.00   3rd Qu.:1.0000  \n",
       " Max.   :22035   Max.   :2756003   Max.   :123.00   Max.   :1.0000  \n",
       "                                                                    \n",
       "  availability      price         manufacturer         group        \n",
       " Min.   :1.00   Min.   :  0.01   Min.   :   1.0   22OI3   : 224606  \n",
       " 1st Qu.:1.00   1st Qu.:  5.95   1st Qu.:  56.0   2FOI    : 214444  \n",
       " Median :1.00   Median :  9.85   Median : 105.0   21OKG   : 155037  \n",
       " Mean   :1.11   Mean   : 13.73   Mean   : 173.7   18OI0EOI: 138827  \n",
       " 3rd Qu.:1.00   3rd Qu.: 16.45   3rd Qu.: 220.0   21OK3   : 104867  \n",
       " Max.   :4.00   Max.   :384.71   Max.   :1067.0   1COS2   :  77237  \n",
       "                                                  (Other) :3051752  \n",
       "    content        unit           pharmForm       genericProduct  \n",
       " 50     : 541154   CM:   1205   TAB    : 367013   Min.   :0.0000  \n",
       " 100    : 488792   G : 670396   CRE    : 294530   1st Qu.:0.0000  \n",
       " 20     : 463380   ML:1332101   FTA    : 264724   Median :0.0000  \n",
       " 10     : 322883   P :  27167   GEL    : 202320   Mean   :0.1075  \n",
       " 1      : 228686   ST:1935901   KAP    : 202198   3rd Qu.:0.0000  \n",
       " 30     : 191615                LOE    : 194366   Max.   :1.0000  \n",
       " (Other):1730260                (Other):2441619                   \n",
       "   salesIndex       category     campaignIndex      rrp        \n",
       " Min.   :40.00   Min.   :  1.0    :3252884     Min.   :  0.07  \n",
       " 1st Qu.:40.00   1st Qu.: 46.0   A: 177885     1st Qu.:  7.87  \n",
       " Median :40.00   Median : 92.0   B: 438641     Median : 13.12  \n",
       " Mean   :46.11   Mean   :114.5   C:  97360     Mean   : 18.12  \n",
       " 3rd Qu.:53.00   3rd Qu.:152.0                 3rd Qu.: 21.89  \n",
       " Max.   :53.00   Max.   :409.0                 Max.   :404.97  \n",
       "                                                               \n",
       "   unified_ML         unified_G         unified_CM          unified_ST     \n",
       " Min.   :    0.00   Min.   :   0.00   Min.   :    0.000   Min.   :   0.00  \n",
       " 1st Qu.:    0.00   1st Qu.:   0.00   1st Qu.:    0.000   1st Qu.:   0.00  \n",
       " Median :    0.00   Median :   0.00   Median :    0.000   Median :   0.00  \n",
       " Mean   :   47.05   Mean   :  16.09   Mean   :    2.126   Mean   :  27.36  \n",
       " 3rd Qu.:   20.00   3rd Qu.:   0.00   3rd Qu.:    0.000   3rd Qu.:  30.00  \n",
       " Max.   :10000.00   Max.   :5000.00   Max.   :22000.000   Max.   :4000.00  \n",
       "                                                                           \n",
       "   unified_P         total_units       competitorPrice_imputed\n",
       " Min.   :0.000000   Min.   :2.50e-01   Min.   :  0.00         \n",
       " 1st Qu.:0.000000   1st Qu.:2.00e+01   1st Qu.:  5.41         \n",
       " Median :0.000000   Median :5.00e+01   Median :  8.86         \n",
       " Mean   :0.006893   Mean   :5.17e+02   Mean   : 12.48         \n",
       " 3rd Qu.:0.000000   3rd Qu.:1.00e+02   3rd Qu.: 14.65         \n",
       " Max.   :2.000000   Max.   :1.01e+05   Max.   :264.59         \n",
       "                                                              \n",
       "  rrp_per_unit       price_per_unit      competitorPrice_per_unit\n",
       " Min.   :  0.00023   Min.   :  0.00002   Min.   :  0.0000        \n",
       " 1st Qu.:  0.13725   1st Qu.:  0.10200   1st Qu.:  0.0913        \n",
       " Median :  0.32588   Median :  0.23940   Median :  0.2140        \n",
       " Mean   :  1.79763   Mean   :  1.38224   Mean   :  1.2347        \n",
       " 3rd Qu.:  0.62726   3rd Qu.:  0.48900   3rd Qu.:  0.4290        \n",
       " Max.   :284.90000   Max.   :284.90000   Max.   :181.5000        \n",
       "                                                                 \n",
       "   price_diff       price_discount     competitorPrice_discount\n",
       " Min.   :-163.180   Min.   :-0.99767   Min.   : -1.0000        \n",
       " 1st Qu.:  -0.040   1st Qu.:-0.31487   1st Qu.: -0.3791        \n",
       " Median :   0.760   Median :-0.23905   Median : -0.2839        \n",
       " Mean   :   1.253   Mean   :-0.23000   Mean   : -0.2811        \n",
       " 3rd Qu.:   2.000   3rd Qu.:-0.07574   3rd Qu.: -0.2002        \n",
       " Max.   : 372.119   Max.   : 5.88550   Max.   :344.5714        \n",
       "                                                               \n",
       " price_discount_diff is_lower_price    is_discount     isgreater_discount\n",
       " Min.   :-344.4286   Min.   :0.0000   Min.   :0.0000   Min.   :0.0000    \n",
       " 1st Qu.:  -0.0034   1st Qu.:0.0000   1st Qu.:1.0000   1st Qu.:0.0000    \n",
       " Median :   0.0664   Median :0.0000   Median :1.0000   Median :0.0000    \n",
       " Mean   :   0.0511   Mean   :0.2735   Mean   :0.9801   Mean   :0.2735    \n",
       " 3rd Qu.:   0.1347   3rd Qu.:1.0000   3rd Qu.:1.0000   3rd Qu.:1.0000    \n",
       " Max.   :   5.9924   Max.   :1.0000   Max.   :1.0000   Max.   :1.0000    \n",
       "                                                                         \n",
       " price_discount_min price_discount_p25 price_discount_med price_discount_p75\n",
       " Min.   :-0.9977    Min.   :-0.3155    Min.   :-0.2391    Min.   :-0.07580  \n",
       " 1st Qu.:-0.9977    1st Qu.:-0.3155    1st Qu.:-0.2391    1st Qu.:-0.07580  \n",
       " Median :-0.9977    Median :-0.3155    Median :-0.2391    Median :-0.07580  \n",
       " Mean   :-0.9976    Mean   :-0.3147    Mean   :-0.2382    Mean   :-0.07566  \n",
       " 3rd Qu.:-0.9977    3rd Qu.:-0.3155    3rd Qu.:-0.2391    3rd Qu.:-0.07580  \n",
       " Max.   :-0.9767    Max.   :-0.1702    Max.   :-0.0751    Max.   :-0.05032  \n",
       "                                                                            \n",
       " price_discount_max\n",
       " Min.   :2.946     \n",
       " 1st Qu.:5.885     \n",
       " Median :5.885     \n",
       " Mean   :5.869     \n",
       " 3rd Qu.:5.885     \n",
       " Max.   :5.885     \n",
       "                   "
      ]
     },
     "metadata": {},
     "output_type": "display_data"
    }
   ],
   "source": [
    "summary(df)"
   ]
  },
  {
   "cell_type": "code",
   "execution_count": 24,
   "metadata": {},
   "outputs": [
    {
     "data": {
      "text/html": [
       "0"
      ],
      "text/latex": [
       "0"
      ],
      "text/markdown": [
       "0"
      ],
      "text/plain": [
       "[1] 0"
      ]
     },
     "metadata": {},
     "output_type": "display_data"
    }
   ],
   "source": []
  },
  {
   "cell_type": "code",
   "execution_count": 25,
   "metadata": {},
   "outputs": [],
   "source": [
    "# ==================== PARTITION LINES ====================\n",
    "train <- df[day <= final_train_day]\n",
    "test <- df[day > final_train_day]\n",
    "\n",
    "train = data.table(train)\n",
    "test = data.table(test)\n",
    "\n",
    "train = train[order(train$lineID), ]\n",
    "test = test[order(test$lineID), ]\n",
    "\n",
    "train <- merge(train, labels, by = \"lineID\")"
   ]
  },
  {
   "cell_type": "code",
   "execution_count": 26,
   "metadata": {},
   "outputs": [
    {
     "data": {},
     "metadata": {},
     "output_type": "display_data"
    }
   ],
   "source": [
    "#------------------------9. train中特有的特征---------------------------------\n",
    "#特征9.1：销售数量\n",
    "train[, `:=`(\n",
    "    order_qty = as.integer(revenue / price)\n",
    "  )]"
   ]
  },
  {
   "cell_type": "code",
   "execution_count": 27,
   "metadata": {},
   "outputs": [],
   "source": [
    "# ==================== WRITE TO DISK ====================\n",
    "write.table(train, \"../data/raw/train_wfb.csv\")\n",
    "write.table(test, \"../data/raw/test_wfb.csv\")"
   ]
  },
  {
   "cell_type": "code",
   "execution_count": null,
   "metadata": {},
   "outputs": [],
   "source": []
  }
 ],
 "metadata": {
  "kernelspec": {
   "display_name": "R",
   "language": "R",
   "name": "ir"
  },
  "language_info": {
   "codemirror_mode": "r",
   "file_extension": ".r",
   "mimetype": "text/x-r-source",
   "name": "R",
   "pygments_lexer": "r",
   "version": "3.5.0"
  }
 },
 "nbformat": 4,
 "nbformat_minor": 2
}
